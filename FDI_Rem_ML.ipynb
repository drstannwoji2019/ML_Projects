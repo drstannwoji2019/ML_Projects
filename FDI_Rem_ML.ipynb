{
  "nbformat": 4,
  "nbformat_minor": 0,
  "metadata": {
    "colab": {
      "provenance": [],
      "toc_visible": true,
      "authorship_tag": "ABX9TyNVYsw6pF4cGNf+IlOoHfCO",
      "include_colab_link": true
    },
    "kernelspec": {
      "name": "python3",
      "display_name": "Python 3"
    },
    "language_info": {
      "name": "python"
    }
  },
  "cells": [
    {
      "cell_type": "markdown",
      "metadata": {
        "id": "view-in-github",
        "colab_type": "text"
      },
      "source": [
        "<a href=\"https://colab.research.google.com/github/drstannwoji2019/ML_Projects/blob/main/FDI_Rem_ML.ipynb\" target=\"_parent\"><img src=\"https://colab.research.google.com/assets/colab-badge.svg\" alt=\"Open In Colab\"/></a>"
      ]
    },
    {
      "cell_type": "code",
      "execution_count": null,
      "metadata": {
        "id": "OIJ8bCLz6qd_"
      },
      "outputs": [],
      "source": [
        "import pandas as pd\n",
        "import numpy as np\n",
        "from sklearn.model_selection import train_test_split\n",
        "from sklearn.neighbors import KNeighborsRegressor\n",
        "from sklearn.svm import SVR\n",
        "from sklearn.tree import DecisionTreeRegressor\n",
        "from sklearn.ensemble import RandomForestRegressor\n",
        "from statsmodels.tsa.arima.model import ARIMA\n",
        "from sklearn.metrics import mean_absolute_error, mean_squared_error\n"
      ]
    },
    {
      "cell_type": "code",
      "source": [
        "# Load the data\n",
        "data = pd.read_csv(\"/FDI_Remittances_Ghana.csv\")\n",
        "\n",
        "# Clean the data by converting numeric columns\n",
        "data['FDI_Ghana'] = data['FDI_Ghana'].str.replace(',', '').astype(float)\n",
        "data['Rem_Ghana'] = data['Rem_Ghana'].str.replace(',', '').astype(float)\n"
      ],
      "metadata": {
        "id": "HUHL-T1vYauw"
      },
      "execution_count": null,
      "outputs": []
    },
    {
      "cell_type": "code",
      "source": [
        "def generate_lagged_features(data, column_name, lags=3):\n",
        "    for lag in range(1, lags + 1):\n",
        "        data[f'{column_name}_lag_{lag}'] = data[column_name].shift(lag)\n",
        "    return data.dropna().reset_index(drop=True)\n",
        "\n",
        "# Apply lagged features for both FDI and Remittances\n",
        "data_fdi = generate_lagged_features(data.copy(), 'FDI_Ghana', lags=3)\n",
        "data_rem = generate_lagged_features(data.copy(), 'Rem_Ghana', lags=3)\n"
      ],
      "metadata": {
        "id": "xii6kQtbYllt"
      },
      "execution_count": null,
      "outputs": []
    },
    {
      "cell_type": "code",
      "source": [
        "def generate_lagged_features(data, column_name, lags=3):\n",
        "    for lag in range(1, lags + 1):\n",
        "        data[f'{column_name}_lag_{lag}'] = data[column_name].shift(lag)\n",
        "    return data.dropna().reset_index(drop=True)\n",
        "\n",
        "# Apply lagged features for both FDI and Remittances\n",
        "data_fdi = generate_lagged_features(data.copy(), 'FDI_Ghana', lags=3)\n",
        "data_rem = generate_lagged_features(data.copy(), 'Rem_Ghana', lags=3)\n"
      ],
      "metadata": {
        "id": "6XS0_9dfY3lA"
      },
      "execution_count": null,
      "outputs": []
    },
    {
      "cell_type": "code",
      "source": [
        "# Define features and target variables\n",
        "X_fdi = data_fdi[['Year', 'FDI_Ghana_lag_1', 'FDI_Ghana_lag_2', 'FDI_Ghana_lag_3']]\n",
        "y_fdi = data_fdi['FDI_Ghana']\n",
        "\n",
        "X_rem = data_rem[['Year', 'Rem_Ghana_lag_1', 'Rem_Ghana_lag_2', 'Rem_Ghana_lag_3']]\n",
        "y_rem = data_rem['Rem_Ghana']\n",
        "\n",
        "# Split into training and testing sets\n",
        "X_fdi_train, X_fdi_test, y_fdi_train, y_fdi_test = train_test_split(X_fdi, y_fdi, test_size=0.2, random_state=0)\n",
        "X_rem_train, X_rem_test, y_rem_train, y_rem_test = train_test_split(X_rem, y_rem, test_size=0.2, random_state=0)\n"
      ],
      "metadata": {
        "id": "N68MCHXLY8i0"
      },
      "execution_count": null,
      "outputs": []
    },
    {
      "cell_type": "code",
      "source": [
        "# Define models\n",
        "models = {\n",
        "    'k-NN': KNeighborsRegressor(n_neighbors=5),\n",
        "    'SVR': SVR(kernel='rbf', C=100, gamma=0.1, epsilon=0.1),\n",
        "    'Decision Tree': DecisionTreeRegressor(),\n",
        "    'Random Forest': RandomForestRegressor(n_estimators=50, random_state=0)\n",
        "}\n",
        "\n",
        "# Initialize results dictionary\n",
        "results = {'Model': [], 'FDI_MAE': [], 'FDI_MSE': [], 'FDI_RMSE': [], 'Rem_MAE': [], 'Rem_MSE': [], 'Rem_RMSE': []}\n",
        "\n",
        "# Train and evaluate each model\n",
        "for name, model in models.items():\n",
        "    # FDI Predictions\n",
        "    model.fit(X_fdi_train, y_fdi_train)\n",
        "    fdi_pred = model.predict(X_fdi_test)\n",
        "    results['Model'].append(name)\n",
        "    results['FDI_MAE'].append(mean_absolute_error(y_fdi_test, fdi_pred))\n",
        "    results['FDI_MSE'].append(mean_squared_error(y_fdi_test, fdi_pred))\n",
        "    results['FDI_RMSE'].append(mean_squared_error(y_fdi_test, fdi_pred, squared=False))\n",
        "\n",
        "    # Remittance Predictions\n",
        "    model.fit(X_rem_train, y_rem_train)\n",
        "    rem_pred = model.predict(X_rem_test)\n",
        "    results['Rem_MAE'].append(mean_absolute_error(y_rem_test, rem_pred))\n",
        "    results['Rem_MSE'].append(mean_squared_error(y_rem_test, rem_pred))\n",
        "    results['Rem_RMSE'].append(mean_squared_error(y_rem_test, rem_pred, squared=False))\n"
      ],
      "metadata": {
        "colab": {
          "base_uri": "https://localhost:8080/"
        },
        "id": "jRGvHeo2ZD4l",
        "outputId": "39155b9f-04e2-461b-8c50-fb7fd927ca5b"
      },
      "execution_count": null,
      "outputs": [
        {
          "output_type": "stream",
          "name": "stderr",
          "text": [
            "/usr/local/lib/python3.10/dist-packages/sklearn/metrics/_regression.py:492: FutureWarning: 'squared' is deprecated in version 1.4 and will be removed in 1.6. To calculate the root mean squared error, use the function'root_mean_squared_error'.\n",
            "  warnings.warn(\n",
            "/usr/local/lib/python3.10/dist-packages/sklearn/metrics/_regression.py:492: FutureWarning: 'squared' is deprecated in version 1.4 and will be removed in 1.6. To calculate the root mean squared error, use the function'root_mean_squared_error'.\n",
            "  warnings.warn(\n",
            "/usr/local/lib/python3.10/dist-packages/sklearn/metrics/_regression.py:492: FutureWarning: 'squared' is deprecated in version 1.4 and will be removed in 1.6. To calculate the root mean squared error, use the function'root_mean_squared_error'.\n",
            "  warnings.warn(\n",
            "/usr/local/lib/python3.10/dist-packages/sklearn/metrics/_regression.py:492: FutureWarning: 'squared' is deprecated in version 1.4 and will be removed in 1.6. To calculate the root mean squared error, use the function'root_mean_squared_error'.\n",
            "  warnings.warn(\n",
            "/usr/local/lib/python3.10/dist-packages/sklearn/metrics/_regression.py:492: FutureWarning: 'squared' is deprecated in version 1.4 and will be removed in 1.6. To calculate the root mean squared error, use the function'root_mean_squared_error'.\n",
            "  warnings.warn(\n",
            "/usr/local/lib/python3.10/dist-packages/sklearn/metrics/_regression.py:492: FutureWarning: 'squared' is deprecated in version 1.4 and will be removed in 1.6. To calculate the root mean squared error, use the function'root_mean_squared_error'.\n",
            "  warnings.warn(\n",
            "/usr/local/lib/python3.10/dist-packages/sklearn/metrics/_regression.py:492: FutureWarning: 'squared' is deprecated in version 1.4 and will be removed in 1.6. To calculate the root mean squared error, use the function'root_mean_squared_error'.\n",
            "  warnings.warn(\n",
            "/usr/local/lib/python3.10/dist-packages/sklearn/metrics/_regression.py:492: FutureWarning: 'squared' is deprecated in version 1.4 and will be removed in 1.6. To calculate the root mean squared error, use the function'root_mean_squared_error'.\n",
            "  warnings.warn(\n"
          ]
        }
      ]
    },
    {
      "cell_type": "code",
      "source": [
        "# ARIMA for FDI only\n",
        "arima_fdi = ARIMA(y_fdi, order=(1, 1, 1)).fit()\n",
        "arima_fdi_pred = arima_fdi.predict(start=len(y_fdi_train), end=len(y_fdi)-1)\n",
        "\n",
        "# Calculate metrics for ARIMA\n",
        "results['Model'].append('ARIMA')\n",
        "results['FDI_MAE'].append(mean_absolute_error(y_fdi_test, arima_fdi_pred))\n",
        "results['FDI_MSE'].append(mean_squared_error(y_fdi_test, arima_fdi_pred))\n",
        "results['FDI_RMSE'].append(mean_squared_error(y_fdi_test, arima_fdi_pred, squared=False))\n",
        "results['Rem_MAE'].append(np.nan)  # ARIMA not applied to Rem_Ghana in this case\n",
        "results['Rem_MSE'].append(np.nan)\n",
        "results['Rem_RMSE'].append(np.nan)\n"
      ],
      "metadata": {
        "colab": {
          "base_uri": "https://localhost:8080/"
        },
        "id": "SHkWrST6ZLKF",
        "outputId": "3792100d-20d1-403c-b9ec-429d22f93792"
      },
      "execution_count": null,
      "outputs": [
        {
          "output_type": "stream",
          "name": "stderr",
          "text": [
            "/usr/local/lib/python3.10/dist-packages/sklearn/metrics/_regression.py:492: FutureWarning: 'squared' is deprecated in version 1.4 and will be removed in 1.6. To calculate the root mean squared error, use the function'root_mean_squared_error'.\n",
            "  warnings.warn(\n"
          ]
        }
      ]
    },
    {
      "cell_type": "code",
      "source": [
        "# Convert results to DataFrame\n",
        "results_df = pd.DataFrame(results)\n",
        "print(results_df)\n"
      ],
      "metadata": {
        "id": "IViQPtbMZPuk",
        "outputId": "7431e48a-22eb-4019-ce45-2680eebcbcdd",
        "colab": {
          "base_uri": "https://localhost:8080/"
        }
      },
      "execution_count": null,
      "outputs": [
        {
          "output_type": "stream",
          "name": "stdout",
          "text": [
            "           Model       FDI_MAE       FDI_MSE      FDI_RMSE       Rem_MAE  \\\n",
            "0           k-NN  2.384450e+08  7.020717e+16  2.649664e+08  1.066083e+09   \n",
            "1            SVR  3.969782e+08  2.026446e+17  4.501606e+08  1.493070e+09   \n",
            "2  Decision Tree  4.131853e+08  4.527318e+17  6.728535e+08  9.533461e+08   \n",
            "3  Random Forest  3.081843e+08  2.514366e+17  5.014345e+08  7.792073e+08   \n",
            "4          ARIMA  6.708059e+08  5.804282e+17  7.618584e+08           NaN   \n",
            "\n",
            "        Rem_MSE      Rem_RMSE  \n",
            "0  1.474426e+18  1.214259e+09  \n",
            "1  3.230484e+18  1.797355e+09  \n",
            "2  2.307840e+18  1.519158e+09  \n",
            "3  1.488000e+18  1.219836e+09  \n",
            "4           NaN           NaN  \n"
          ]
        }
      ]
    }
  ]
}