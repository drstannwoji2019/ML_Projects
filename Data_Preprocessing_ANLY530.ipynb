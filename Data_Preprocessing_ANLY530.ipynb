{
  "nbformat": 4,
  "nbformat_minor": 0,
  "metadata": {
    "colab": {
      "provenance": [],
      "authorship_tag": "ABX9TyOPlR1O01hv/uQXEeAUpMJb",
      "include_colab_link": true
    },
    "kernelspec": {
      "name": "python3",
      "display_name": "Python 3"
    },
    "language_info": {
      "name": "python"
    }
  },
  "cells": [
    {
      "cell_type": "markdown",
      "metadata": {
        "id": "view-in-github",
        "colab_type": "text"
      },
      "source": [
        "<a href=\"https://colab.research.google.com/github/drstannwoji2019/ML_Projects/blob/main/Data_Preprocessing_ANLY530.ipynb\" target=\"_parent\"><img src=\"https://colab.research.google.com/assets/colab-badge.svg\" alt=\"Open In Colab\"/></a>"
      ]
    },
    {
      "cell_type": "code",
      "execution_count": 7,
      "metadata": {
        "colab": {
          "base_uri": "https://localhost:8080/"
        },
        "collapsed": true,
        "id": "Lnw9szeZkkNu",
        "outputId": "ca88d304-ae23-4633-87d0-06814e9b49c7"
      },
      "outputs": [
        {
          "output_type": "stream",
          "name": "stdout",
          "text": [
            "Original Data:\n",
            "     Age    Income  Education  Purchased\n",
            "0  25.0   50000.0  Bachelors          0\n",
            "1  30.0   60000.0    Masters          1\n",
            "2  35.0       NaN        PhD          0\n",
            "3   NaN   80000.0    Masters          1\n",
            "4  40.0   90000.0  Bachelors          1\n",
            "5  50.0  100000.0        PhD          0\n",
            "6   NaN  110000.0    Masters          1\n",
            "7  60.0       NaN  Bachelors          0\n",
            "8  65.0  130000.0        PhD          1\n",
            "9  70.0  140000.0    Masters          0\n"
          ]
        }
      ],
      "source": [
        "# Import Libraries\n",
        "import pandas as pd\n",
        "import numpy as np\n",
        "from sklearn.model_selection import train_test_split\n",
        "from sklearn.preprocessing import StandardScaler, OneHotEncoder\n",
        "from sklearn.impute import SimpleImputer\n",
        "from sklearn.feature_selection import SelectKBest, chi2\n",
        "\n",
        "# Sample dataset\n",
        "data = {\n",
        "    'Age': [25, 30, 35, np.nan, 40, 50, np.nan, 60, 65, 70],\n",
        "    'Income': [50000, 60000, np.nan, 80000, 90000, 100000, 110000, np.nan, 130000, 140000],\n",
        "    'Education': ['Bachelors', 'Masters', 'PhD', 'Masters', 'Bachelors', 'PhD', 'Masters', 'Bachelors', 'PhD', 'Masters'],\n",
        "    'Purchased': [0, 1, 0, 1, 1, 0, 1, 0, 1, 0]\n",
        "}\n",
        "\n",
        "df = pd.DataFrame(data)\n",
        "print(\"Original Data:\\n\", df)\n"
      ]
    },
    {
      "cell_type": "code",
      "source": [
        "# Step 2: Handling Missing Values\n",
        "# Impute missing values with the median for numerical columns\n",
        "imputer = SimpleImputer(strategy='median')\n",
        "df[['Age', 'Income']] = imputer.fit_transform(df[['Age', 'Income']])\n",
        "\n",
        "print(\"Data after Imputation:\\n\", df)\n"
      ],
      "metadata": {
        "colab": {
          "base_uri": "https://localhost:8080/"
        },
        "id": "toATj1oUk3V0",
        "outputId": "cf53cda6-87d5-4e88-a41a-7a9ca3b68b3f"
      },
      "execution_count": 8,
      "outputs": [
        {
          "output_type": "stream",
          "name": "stdout",
          "text": [
            "Data after Imputation:\n",
            "     Age    Income  Education  Purchased\n",
            "0  25.0   50000.0  Bachelors          0\n",
            "1  30.0   60000.0    Masters          1\n",
            "2  35.0   95000.0        PhD          0\n",
            "3  45.0   80000.0    Masters          1\n",
            "4  40.0   90000.0  Bachelors          1\n",
            "5  50.0  100000.0        PhD          0\n",
            "6  45.0  110000.0    Masters          1\n",
            "7  60.0   95000.0  Bachelors          0\n",
            "8  65.0  130000.0        PhD          1\n",
            "9  70.0  140000.0    Masters          0\n"
          ]
        }
      ]
    },
    {
      "cell_type": "code",
      "source": [
        "# Encoding Categorical Values\n",
        "# One-hot encoding for categorical features\n",
        "encoder = OneHotEncoder(drop='first', sparse_output=False)\n",
        "encoded_education = encoder.fit_transform(df[['Education']])\n",
        "encoded_education_df = pd.DataFrame(encoded_education, columns=encoder.get_feature_names_out(['Education']))\n",
        "\n",
        "# Merge with original dataframe and drop the original categorical column\n",
        "df = df.drop(['Education'], axis=1)\n",
        "df = pd.concat([df, encoded_education_df], axis=1)\n",
        "\n",
        "print(\"Data after Encoding:\\n\", df)\n",
        "\n"
      ],
      "metadata": {
        "colab": {
          "base_uri": "https://localhost:8080/"
        },
        "id": "PFEnpaeylHwC",
        "outputId": "59cbd99a-a64b-4532-f3e4-8cef05ae4951"
      },
      "execution_count": 9,
      "outputs": [
        {
          "output_type": "stream",
          "name": "stdout",
          "text": [
            "Data after Encoding:\n",
            "     Age    Income  Purchased  Education_Masters  Education_PhD\n",
            "0  25.0   50000.0          0                0.0            0.0\n",
            "1  30.0   60000.0          1                1.0            0.0\n",
            "2  35.0   95000.0          0                0.0            1.0\n",
            "3  45.0   80000.0          1                1.0            0.0\n",
            "4  40.0   90000.0          1                0.0            0.0\n",
            "5  50.0  100000.0          0                0.0            1.0\n",
            "6  45.0  110000.0          1                1.0            0.0\n",
            "7  60.0   95000.0          0                0.0            0.0\n",
            "8  65.0  130000.0          1                0.0            1.0\n",
            "9  70.0  140000.0          0                1.0            0.0\n"
          ]
        }
      ]
    },
    {
      "cell_type": "code",
      "source": [
        "# Step 4: Feature Scaling\n",
        "scaler = StandardScaler()\n",
        "df[['Age', 'Income']] = scaler.fit_transform(df[['Age', 'Income']])\n",
        "\n",
        "print(\"Data after Scaling:\\n\", df)\n"
      ],
      "metadata": {
        "colab": {
          "base_uri": "https://localhost:8080/"
        },
        "id": "EFm2BdPKlXur",
        "outputId": "75b37acb-8d9d-4082-f114-8fe91bdcfacf"
      },
      "execution_count": 10,
      "outputs": [
        {
          "output_type": "stream",
          "name": "stdout",
          "text": [
            "Data after Scaling:\n",
            "         Age    Income  Purchased  Education_Masters  Education_PhD\n",
            "0 -1.519330 -1.700840          0                0.0            0.0\n",
            "1 -1.165998 -1.322876          1                1.0            0.0\n",
            "2 -0.812665  0.000000          0                0.0            1.0\n",
            "3 -0.106000 -0.566947          1                1.0            0.0\n",
            "4 -0.459332 -0.188982          1                0.0            0.0\n",
            "5  0.247333  0.188982          0                0.0            1.0\n",
            "6 -0.106000  0.566947          1                1.0            0.0\n",
            "7  0.953998  0.000000          0                0.0            0.0\n",
            "8  1.307331  1.322876          1                0.0            1.0\n",
            "9  1.660663  1.700840          0                1.0            0.0\n"
          ]
        }
      ]
    },
    {
      "cell_type": "code",
      "source": [
        "# Step 5: Feature Selection Using Chi-Square Test\n",
        "X = df.drop('Purchased', axis=1)\n",
        "y = df['Purchased']\n",
        "\n",
        "# Apply SelectKBest with chi-square test\n",
        "# Before applying SelectKBest, ensure all values in X are non-negative\n",
        "X = X.abs() # take the absolute value of the features to ensure they are non-negative.\n",
        "selector = SelectKBest(score_func=chi2, k=2)  # Select top 2 features\n",
        "X_selected = selector.fit_transform(X, y)\n",
        "\n",
        "print(\"Selected Features:\\n\", X.columns[selector.get_support()])"
      ],
      "metadata": {
        "colab": {
          "base_uri": "https://localhost:8080/"
        },
        "id": "JI_zwD3QllMz",
        "outputId": "3985962a-1a9f-42fa-cc6e-e0e781a2ceee"
      },
      "execution_count": 11,
      "outputs": [
        {
          "output_type": "stream",
          "name": "stdout",
          "text": [
            "Selected Features:\n",
            " Index(['Age', 'Education_Masters'], dtype='object')\n"
          ]
        }
      ]
    }
  ]
}