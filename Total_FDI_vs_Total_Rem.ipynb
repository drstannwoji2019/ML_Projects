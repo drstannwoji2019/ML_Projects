{
  "nbformat": 4,
  "nbformat_minor": 0,
  "metadata": {
    "colab": {
      "provenance": [],
      "authorship_tag": "ABX9TyNRxTibQ3UKETxebLXNiiOa",
      "include_colab_link": true
    },
    "kernelspec": {
      "name": "python3",
      "display_name": "Python 3"
    },
    "language_info": {
      "name": "python"
    }
  },
  "cells": [
    {
      "cell_type": "markdown",
      "metadata": {
        "id": "view-in-github",
        "colab_type": "text"
      },
      "source": [
        "<a href=\"https://colab.research.google.com/github/drstannwoji2019/ML_Projects/blob/main/Total_FDI_vs_Total_Rem.ipynb\" target=\"_parent\"><img src=\"https://colab.research.google.com/assets/colab-badge.svg\" alt=\"Open In Colab\"/></a>"
      ]
    },
    {
      "cell_type": "code",
      "execution_count": 2,
      "metadata": {
        "colab": {
          "base_uri": "https://localhost:8080/",
          "height": 206
        },
        "id": "5wOP-HUkeQ2z",
        "outputId": "c1241721-30b3-4a69-d320-71b6bf3db379"
      },
      "outputs": [
        {
          "output_type": "execute_result",
          "data": {
            "text/plain": [
              "      FDI_Total     Rem_Total\n",
              "0  2.205362e+09  2.499016e+09\n",
              "1  5.354688e+09  1.483286e+10\n",
              "2  5.739298e+09  1.719561e+10\n",
              "3  7.724402e+09  1.829141e+10\n",
              "4  1.131641e+10  1.947159e+10"
            ],
            "text/html": [
              "\n",
              "  <div id=\"df-53a5618e-b74f-411d-a430-64efffd25b75\" class=\"colab-df-container\">\n",
              "    <div>\n",
              "<style scoped>\n",
              "    .dataframe tbody tr th:only-of-type {\n",
              "        vertical-align: middle;\n",
              "    }\n",
              "\n",
              "    .dataframe tbody tr th {\n",
              "        vertical-align: top;\n",
              "    }\n",
              "\n",
              "    .dataframe thead th {\n",
              "        text-align: right;\n",
              "    }\n",
              "</style>\n",
              "<table border=\"1\" class=\"dataframe\">\n",
              "  <thead>\n",
              "    <tr style=\"text-align: right;\">\n",
              "      <th></th>\n",
              "      <th>FDI_Total</th>\n",
              "      <th>Rem_Total</th>\n",
              "    </tr>\n",
              "  </thead>\n",
              "  <tbody>\n",
              "    <tr>\n",
              "      <th>0</th>\n",
              "      <td>2.205362e+09</td>\n",
              "      <td>2.499016e+09</td>\n",
              "    </tr>\n",
              "    <tr>\n",
              "      <th>1</th>\n",
              "      <td>5.354688e+09</td>\n",
              "      <td>1.483286e+10</td>\n",
              "    </tr>\n",
              "    <tr>\n",
              "      <th>2</th>\n",
              "      <td>5.739298e+09</td>\n",
              "      <td>1.719561e+10</td>\n",
              "    </tr>\n",
              "    <tr>\n",
              "      <th>3</th>\n",
              "      <td>7.724402e+09</td>\n",
              "      <td>1.829141e+10</td>\n",
              "    </tr>\n",
              "    <tr>\n",
              "      <th>4</th>\n",
              "      <td>1.131641e+10</td>\n",
              "      <td>1.947159e+10</td>\n",
              "    </tr>\n",
              "  </tbody>\n",
              "</table>\n",
              "</div>\n",
              "    <div class=\"colab-df-buttons\">\n",
              "\n",
              "  <div class=\"colab-df-container\">\n",
              "    <button class=\"colab-df-convert\" onclick=\"convertToInteractive('df-53a5618e-b74f-411d-a430-64efffd25b75')\"\n",
              "            title=\"Convert this dataframe to an interactive table.\"\n",
              "            style=\"display:none;\">\n",
              "\n",
              "  <svg xmlns=\"http://www.w3.org/2000/svg\" height=\"24px\" viewBox=\"0 -960 960 960\">\n",
              "    <path d=\"M120-120v-720h720v720H120Zm60-500h600v-160H180v160Zm220 220h160v-160H400v160Zm0 220h160v-160H400v160ZM180-400h160v-160H180v160Zm440 0h160v-160H620v160ZM180-180h160v-160H180v160Zm440 0h160v-160H620v160Z\"/>\n",
              "  </svg>\n",
              "    </button>\n",
              "\n",
              "  <style>\n",
              "    .colab-df-container {\n",
              "      display:flex;\n",
              "      gap: 12px;\n",
              "    }\n",
              "\n",
              "    .colab-df-convert {\n",
              "      background-color: #E8F0FE;\n",
              "      border: none;\n",
              "      border-radius: 50%;\n",
              "      cursor: pointer;\n",
              "      display: none;\n",
              "      fill: #1967D2;\n",
              "      height: 32px;\n",
              "      padding: 0 0 0 0;\n",
              "      width: 32px;\n",
              "    }\n",
              "\n",
              "    .colab-df-convert:hover {\n",
              "      background-color: #E2EBFA;\n",
              "      box-shadow: 0px 1px 2px rgba(60, 64, 67, 0.3), 0px 1px 3px 1px rgba(60, 64, 67, 0.15);\n",
              "      fill: #174EA6;\n",
              "    }\n",
              "\n",
              "    .colab-df-buttons div {\n",
              "      margin-bottom: 4px;\n",
              "    }\n",
              "\n",
              "    [theme=dark] .colab-df-convert {\n",
              "      background-color: #3B4455;\n",
              "      fill: #D2E3FC;\n",
              "    }\n",
              "\n",
              "    [theme=dark] .colab-df-convert:hover {\n",
              "      background-color: #434B5C;\n",
              "      box-shadow: 0px 1px 3px 1px rgba(0, 0, 0, 0.15);\n",
              "      filter: drop-shadow(0px 1px 2px rgba(0, 0, 0, 0.3));\n",
              "      fill: #FFFFFF;\n",
              "    }\n",
              "  </style>\n",
              "\n",
              "    <script>\n",
              "      const buttonEl =\n",
              "        document.querySelector('#df-53a5618e-b74f-411d-a430-64efffd25b75 button.colab-df-convert');\n",
              "      buttonEl.style.display =\n",
              "        google.colab.kernel.accessAllowed ? 'block' : 'none';\n",
              "\n",
              "      async function convertToInteractive(key) {\n",
              "        const element = document.querySelector('#df-53a5618e-b74f-411d-a430-64efffd25b75');\n",
              "        const dataTable =\n",
              "          await google.colab.kernel.invokeFunction('convertToInteractive',\n",
              "                                                    [key], {});\n",
              "        if (!dataTable) return;\n",
              "\n",
              "        const docLinkHtml = 'Like what you see? Visit the ' +\n",
              "          '<a target=\"_blank\" href=https://colab.research.google.com/notebooks/data_table.ipynb>data table notebook</a>'\n",
              "          + ' to learn more about interactive tables.';\n",
              "        element.innerHTML = '';\n",
              "        dataTable['output_type'] = 'display_data';\n",
              "        await google.colab.output.renderOutput(dataTable, element);\n",
              "        const docLink = document.createElement('div');\n",
              "        docLink.innerHTML = docLinkHtml;\n",
              "        element.appendChild(docLink);\n",
              "      }\n",
              "    </script>\n",
              "  </div>\n",
              "\n",
              "\n",
              "<div id=\"df-8804ed0e-4e2e-4866-8f72-1abb12f1db3c\">\n",
              "  <button class=\"colab-df-quickchart\" onclick=\"quickchart('df-8804ed0e-4e2e-4866-8f72-1abb12f1db3c')\"\n",
              "            title=\"Suggest charts\"\n",
              "            style=\"display:none;\">\n",
              "\n",
              "<svg xmlns=\"http://www.w3.org/2000/svg\" height=\"24px\"viewBox=\"0 0 24 24\"\n",
              "     width=\"24px\">\n",
              "    <g>\n",
              "        <path d=\"M19 3H5c-1.1 0-2 .9-2 2v14c0 1.1.9 2 2 2h14c1.1 0 2-.9 2-2V5c0-1.1-.9-2-2-2zM9 17H7v-7h2v7zm4 0h-2V7h2v10zm4 0h-2v-4h2v4z\"/>\n",
              "    </g>\n",
              "</svg>\n",
              "  </button>\n",
              "\n",
              "<style>\n",
              "  .colab-df-quickchart {\n",
              "      --bg-color: #E8F0FE;\n",
              "      --fill-color: #1967D2;\n",
              "      --hover-bg-color: #E2EBFA;\n",
              "      --hover-fill-color: #174EA6;\n",
              "      --disabled-fill-color: #AAA;\n",
              "      --disabled-bg-color: #DDD;\n",
              "  }\n",
              "\n",
              "  [theme=dark] .colab-df-quickchart {\n",
              "      --bg-color: #3B4455;\n",
              "      --fill-color: #D2E3FC;\n",
              "      --hover-bg-color: #434B5C;\n",
              "      --hover-fill-color: #FFFFFF;\n",
              "      --disabled-bg-color: #3B4455;\n",
              "      --disabled-fill-color: #666;\n",
              "  }\n",
              "\n",
              "  .colab-df-quickchart {\n",
              "    background-color: var(--bg-color);\n",
              "    border: none;\n",
              "    border-radius: 50%;\n",
              "    cursor: pointer;\n",
              "    display: none;\n",
              "    fill: var(--fill-color);\n",
              "    height: 32px;\n",
              "    padding: 0;\n",
              "    width: 32px;\n",
              "  }\n",
              "\n",
              "  .colab-df-quickchart:hover {\n",
              "    background-color: var(--hover-bg-color);\n",
              "    box-shadow: 0 1px 2px rgba(60, 64, 67, 0.3), 0 1px 3px 1px rgba(60, 64, 67, 0.15);\n",
              "    fill: var(--button-hover-fill-color);\n",
              "  }\n",
              "\n",
              "  .colab-df-quickchart-complete:disabled,\n",
              "  .colab-df-quickchart-complete:disabled:hover {\n",
              "    background-color: var(--disabled-bg-color);\n",
              "    fill: var(--disabled-fill-color);\n",
              "    box-shadow: none;\n",
              "  }\n",
              "\n",
              "  .colab-df-spinner {\n",
              "    border: 2px solid var(--fill-color);\n",
              "    border-color: transparent;\n",
              "    border-bottom-color: var(--fill-color);\n",
              "    animation:\n",
              "      spin 1s steps(1) infinite;\n",
              "  }\n",
              "\n",
              "  @keyframes spin {\n",
              "    0% {\n",
              "      border-color: transparent;\n",
              "      border-bottom-color: var(--fill-color);\n",
              "      border-left-color: var(--fill-color);\n",
              "    }\n",
              "    20% {\n",
              "      border-color: transparent;\n",
              "      border-left-color: var(--fill-color);\n",
              "      border-top-color: var(--fill-color);\n",
              "    }\n",
              "    30% {\n",
              "      border-color: transparent;\n",
              "      border-left-color: var(--fill-color);\n",
              "      border-top-color: var(--fill-color);\n",
              "      border-right-color: var(--fill-color);\n",
              "    }\n",
              "    40% {\n",
              "      border-color: transparent;\n",
              "      border-right-color: var(--fill-color);\n",
              "      border-top-color: var(--fill-color);\n",
              "    }\n",
              "    60% {\n",
              "      border-color: transparent;\n",
              "      border-right-color: var(--fill-color);\n",
              "    }\n",
              "    80% {\n",
              "      border-color: transparent;\n",
              "      border-right-color: var(--fill-color);\n",
              "      border-bottom-color: var(--fill-color);\n",
              "    }\n",
              "    90% {\n",
              "      border-color: transparent;\n",
              "      border-bottom-color: var(--fill-color);\n",
              "    }\n",
              "  }\n",
              "</style>\n",
              "\n",
              "  <script>\n",
              "    async function quickchart(key) {\n",
              "      const quickchartButtonEl =\n",
              "        document.querySelector('#' + key + ' button');\n",
              "      quickchartButtonEl.disabled = true;  // To prevent multiple clicks.\n",
              "      quickchartButtonEl.classList.add('colab-df-spinner');\n",
              "      try {\n",
              "        const charts = await google.colab.kernel.invokeFunction(\n",
              "            'suggestCharts', [key], {});\n",
              "      } catch (error) {\n",
              "        console.error('Error during call to suggestCharts:', error);\n",
              "      }\n",
              "      quickchartButtonEl.classList.remove('colab-df-spinner');\n",
              "      quickchartButtonEl.classList.add('colab-df-quickchart-complete');\n",
              "    }\n",
              "    (() => {\n",
              "      let quickchartButtonEl =\n",
              "        document.querySelector('#df-8804ed0e-4e2e-4866-8f72-1abb12f1db3c button');\n",
              "      quickchartButtonEl.style.display =\n",
              "        google.colab.kernel.accessAllowed ? 'block' : 'none';\n",
              "    })();\n",
              "  </script>\n",
              "</div>\n",
              "\n",
              "    </div>\n",
              "  </div>\n"
            ],
            "application/vnd.google.colaboratory.intrinsic+json": {
              "type": "dataframe",
              "variable_name": "data",
              "summary": "{\n  \"name\": \"data\",\n  \"rows\": 19,\n  \"fields\": [\n    {\n      \"column\": \"FDI_Total\",\n      \"properties\": {\n        \"dtype\": \"number\",\n        \"std\": 3520405382.018515,\n        \"min\": 2205362252.0,\n        \"max\": 15161211912.0,\n        \"num_unique_values\": 19,\n        \"samples\": [\n          2205362252.0,\n          11206210977.0,\n          6813581149.0\n        ],\n        \"semantic_type\": \"\",\n        \"description\": \"\"\n      }\n    },\n    {\n      \"column\": \"Rem_Total\",\n      \"properties\": {\n        \"dtype\": \"number\",\n        \"std\": 6010841646.940848,\n        \"min\": 2499016167.0,\n        \"max\": 28662538451.0,\n        \"num_unique_values\": 19,\n        \"samples\": [\n          2499016167.0,\n          18626066656.0,\n          26465139828.0\n        ],\n        \"semantic_type\": \"\",\n        \"description\": \"\"\n      }\n    }\n  ]\n}"
            }
          },
          "metadata": {},
          "execution_count": 2
        }
      ],
      "source": [
        "# Data Preparation\n",
        "import pandas as pd\n",
        "\n",
        "# Load the dataset\n",
        "file_path = '/content/T-FDI_vs_T-Rem_CGPT.csv'\n",
        "data = pd.read_csv(file_path)\n",
        "\n",
        "# Clean and convert the data to numeric by removing commas and casting to float\n",
        "data['FDI_Total'] = data['FDI_Total'].str.replace(',', '').astype(float)\n",
        "data['Rem_Total'] = data['Rem_Total'].str.replace(',', '').astype(float)\n",
        "\n",
        "# Display the cleaned dataset\n",
        "data.head()\n"
      ]
    },
    {
      "cell_type": "code",
      "source": [
        "# Simple Linear Regression\n",
        "from sklearn.linear_model import LinearRegression\n",
        "from sklearn.metrics import mean_squared_error, mean_absolute_error, r2_score\n",
        "\n",
        "# Separate the independent and dependent variables\n",
        "X = data[['FDI_Total']].values\n",
        "y = data['Rem_Total'].values\n",
        "\n",
        "# Initialize and fit the linear regression model\n",
        "lr_model = LinearRegression()\n",
        "lr_model.fit(X, y)\n",
        "\n",
        "# Predict values\n",
        "y_pred = lr_model.predict(X)\n",
        "\n",
        "# Calculate evaluation metrics\n",
        "mse = mean_squared_error(y, y_pred)\n",
        "mae = mean_absolute_error(y, y_pred)\n",
        "r2 = r2_score(y, y_pred)\n",
        "\n",
        "# Display the results\n",
        "print(\"Linear Regression Results:\")\n",
        "print(f\"Mean Squared Error (MSE): {mse}\")\n",
        "print(f\"Mean Absolute Error (MAE): {mae}\")\n",
        "print(f\"R-squared (R²): {r2}\")\n",
        "print(f\"Intercept: {lr_model.intercept_}\")\n",
        "print(f\"Coefficient: {lr_model.coef_[0]}\")\n"
      ],
      "metadata": {
        "colab": {
          "base_uri": "https://localhost:8080/"
        },
        "id": "tpgny8zaevLk",
        "outputId": "fc87f066-bf37-4a95-aee5-af13566ffa5d"
      },
      "execution_count": 3,
      "outputs": [
        {
          "output_type": "stream",
          "name": "stdout",
          "text": [
            "Linear Regression Results:\n",
            "Mean Squared Error (MSE): 3.307443632028242e+19\n",
            "Mean Absolute Error (MAE): 4302673344.010739\n",
            "R-squared (R²): 0.03372003798330192\n",
            "Intercept: 19214618267.013615\n",
            "Coefficient: 0.3135354402644768\n"
          ]
        }
      ]
    },
    {
      "cell_type": "code",
      "source": [
        "# ARIMA Model\n",
        "from statsmodels.tsa.arima.model import ARIMA\n",
        "\n",
        "# Fit ARIMA model\n",
        "arima_model = ARIMA(data['Rem_Total'], order=(1, 1, 1))\n",
        "arima_fit = arima_model.fit()\n",
        "\n",
        "# Display ARIMA summary\n",
        "print(\"ARIMA Model Summary:\")\n",
        "print(arima_fit.summary())\n"
      ],
      "metadata": {
        "colab": {
          "base_uri": "https://localhost:8080/"
        },
        "id": "PbptlkL7e3cr",
        "outputId": "4262b110-96b6-4efb-841a-566b3ee378fc"
      },
      "execution_count": 4,
      "outputs": [
        {
          "output_type": "stream",
          "name": "stderr",
          "text": [
            "/usr/local/lib/python3.10/dist-packages/statsmodels/tsa/statespace/sarimax.py:966: UserWarning: Non-stationary starting autoregressive parameters found. Using zeros as starting parameters.\n",
            "  warn('Non-stationary starting autoregressive parameters'\n",
            "/usr/local/lib/python3.10/dist-packages/statsmodels/tsa/statespace/sarimax.py:978: UserWarning: Non-invertible starting MA parameters found. Using zeros as starting parameters.\n",
            "  warn('Non-invertible starting MA parameters found.'\n"
          ]
        },
        {
          "output_type": "stream",
          "name": "stdout",
          "text": [
            "ARIMA Model Summary:\n",
            "                               SARIMAX Results                                \n",
            "==============================================================================\n",
            "Dep. Variable:              Rem_Total   No. Observations:                   19\n",
            "Model:                 ARIMA(1, 1, 1)   Log Likelihood                -426.923\n",
            "Date:                Wed, 11 Dec 2024   AIC                            859.846\n",
            "Time:                        06:53:05   BIC                            862.517\n",
            "Sample:                             0   HQIC                           860.214\n",
            "                                 - 19                                         \n",
            "Covariance Type:                  opg                                         \n",
            "==============================================================================\n",
            "                 coef    std err          z      P>|z|      [0.025      0.975]\n",
            "------------------------------------------------------------------------------\n",
            "ar.L1         -0.1118      1.657     -0.067      0.946      -3.359       3.135\n",
            "ma.L1          0.2945      1.613      0.183      0.855      -2.866       3.455\n",
            "sigma2      5.487e+18        nan        nan        nan         nan         nan\n",
            "===================================================================================\n",
            "Ljung-Box (L1) (Q):                   0.65   Jarque-Bera (JB):                11.27\n",
            "Prob(Q):                              0.42   Prob(JB):                         0.00\n",
            "Heteroskedasticity (H):               0.45   Skew:                             1.02\n",
            "Prob(H) (two-sided):                  0.35   Kurtosis:                         6.29\n",
            "===================================================================================\n",
            "\n",
            "Warnings:\n",
            "[1] Covariance matrix calculated using the outer product of gradients (complex-step).\n",
            "[2] Covariance matrix is singular or near-singular, with condition number 3.8e+53. Standard errors may be unstable.\n"
          ]
        }
      ]
    },
    {
      "cell_type": "code",
      "source": [
        "# SARIMA Model for potential seasonality\n",
        "from statsmodels.tsa.statespace.sarimax import SARIMAX\n",
        "\n",
        "# Fit SARIMA model\n",
        "sarima_model = SARIMAX(data['Rem_Total'], order=(1, 1, 1), seasonal_order=(1, 1, 1, 12))\n",
        "sarima_fit = sarima_model.fit()\n",
        "\n",
        "# Display SARIMA summary\n",
        "print(\"SARIMA Model Summary:\")\n",
        "print(sarima_fit.summary())\n"
      ],
      "metadata": {
        "colab": {
          "base_uri": "https://localhost:8080/"
        },
        "id": "yEolG-eQf5Mc",
        "outputId": "813535e5-8034-4903-e7eb-25ce074df6ae"
      },
      "execution_count": 5,
      "outputs": [
        {
          "output_type": "stream",
          "name": "stderr",
          "text": [
            "/usr/local/lib/python3.10/dist-packages/statsmodels/tsa/statespace/sarimax.py:866: UserWarning: Too few observations to estimate starting parameters for seasonal ARMA. All parameters except for variances will be set to zeros.\n",
            "  warn('Too few observations to estimate starting parameters%s.'\n"
          ]
        },
        {
          "output_type": "stream",
          "name": "stdout",
          "text": [
            "SARIMA Model Summary:\n",
            "                                     SARIMAX Results                                      \n",
            "==========================================================================================\n",
            "Dep. Variable:                          Rem_Total   No. Observations:                   19\n",
            "Model:             SARIMAX(1, 1, 1)x(1, 1, 1, 12)   Log Likelihood                -140.966\n",
            "Date:                            Wed, 11 Dec 2024   AIC                            291.931\n",
            "Time:                                    06:55:40   BIC                            290.890\n",
            "Sample:                                         0   HQIC                           287.763\n",
            "                                             - 19                                         \n",
            "Covariance Type:                              opg                                         \n",
            "==============================================================================\n",
            "                 coef    std err          z      P>|z|      [0.025      0.975]\n",
            "------------------------------------------------------------------------------\n",
            "ar.L1          0.0447      0.758      0.059      0.953      -1.440       1.529\n",
            "ma.L1         -0.9999   4925.119     -0.000      1.000   -9654.056    9652.056\n",
            "ar.S.L12      -0.9477      0.352     -2.690      0.007      -1.638      -0.257\n",
            "ma.S.L12      -0.9999   4925.022     -0.000      1.000   -9653.865    9651.865\n",
            "sigma2      7.657e+17   6.43e-15   1.19e+32      0.000    7.66e+17    7.66e+17\n",
            "===================================================================================\n",
            "Ljung-Box (L1) (Q):                   0.02   Jarque-Bera (JB):                 0.84\n",
            "Prob(Q):                              0.89   Prob(JB):                         0.66\n",
            "Heteroskedasticity (H):               0.26   Skew:                            -0.91\n",
            "Prob(H) (two-sided):                  0.41   Kurtosis:                         2.73\n",
            "===================================================================================\n",
            "\n",
            "Warnings:\n",
            "[1] Covariance matrix calculated using the outer product of gradients (complex-step).\n",
            "[2] Covariance matrix is singular or near-singular, with condition number 2.91e+52. Standard errors may be unstable.\n"
          ]
        }
      ]
    },
    {
      "cell_type": "code",
      "source": [
        "# Model Comparison\n",
        "# Gather AIC values for comparison\n",
        "arima_aic = arima_fit.aic\n",
        "sarima_aic = sarima_fit.aic\n",
        "\n",
        "print(\"Model AIC Comparison:\")\n",
        "print(f\"ARIMA AIC: {arima_aic}\")\n",
        "print(f\"SARIMA AIC: {sarima_aic}\")\n"
      ],
      "metadata": {
        "colab": {
          "base_uri": "https://localhost:8080/"
        },
        "id": "32okyd2wgGHV",
        "outputId": "9bf6a6dc-6577-42eb-b179-8e4dd310ac2b"
      },
      "execution_count": 6,
      "outputs": [
        {
          "output_type": "stream",
          "name": "stdout",
          "text": [
            "Model AIC Comparison:\n",
            "ARIMA AIC: 859.8458410290962\n",
            "SARIMA AIC: 291.93132921936336\n"
          ]
        }
      ]
    },
    {
      "cell_type": "code",
      "source": [
        "# Econometric Equation: Constructed from the simple linear regression equation\n",
        "print(\"Econometric Equation:\")\n",
        "print(f\"Rem_Total = {lr_model.coef_[0]} * FDI_Total + {lr_model.intercept_}\")\n"
      ],
      "metadata": {
        "colab": {
          "base_uri": "https://localhost:8080/"
        },
        "id": "OAhwahBEgYRj",
        "outputId": "9cecb878-7e61-4693-a72b-8e5645805356"
      },
      "execution_count": 7,
      "outputs": [
        {
          "output_type": "stream",
          "name": "stdout",
          "text": [
            "Econometric Equation:\n",
            "Rem_Total = 0.3135354402644768 * FDI_Total + 19214618267.013615\n"
          ]
        }
      ]
    }
  ]
}