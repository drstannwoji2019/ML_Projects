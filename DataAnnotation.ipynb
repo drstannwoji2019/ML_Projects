{
  "nbformat": 4,
  "nbformat_minor": 0,
  "metadata": {
    "colab": {
      "provenance": [],
      "authorship_tag": "ABX9TyMeqaevh5gFL2RJlOgov2TI",
      "include_colab_link": true
    },
    "kernelspec": {
      "name": "python3",
      "display_name": "Python 3"
    },
    "language_info": {
      "name": "python"
    }
  },
  "cells": [
    {
      "cell_type": "markdown",
      "metadata": {
        "id": "view-in-github",
        "colab_type": "text"
      },
      "source": [
        "<a href=\"https://colab.research.google.com/github/drstannwoji2019/ML_Projects/blob/main/DataAnnotation.ipynb\" target=\"_parent\"><img src=\"https://colab.research.google.com/assets/colab-badge.svg\" alt=\"Open In Colab\"/></a>"
      ]
    },
    {
      "cell_type": "code",
      "source": [
        "import requests\n",
        "from bs4 import BeautifulSoup\n",
        "\n",
        "def fetch_doc_data(url):\n",
        "    \"\"\"Fetches the content of a Google Doc as raw HTML.\"\"\"\n",
        "    response = requests.get(url)\n",
        "    return response.text\n",
        "\n",
        "def parse_data(doc_data):\n",
        "    \"\"\"Parses the Google Doc content and extracts the coordinates and characters.\"\"\"\n",
        "    soup = BeautifulSoup(doc_data, 'html.parser')\n",
        "\n",
        "    # Find all the <p> (paragraph) elements in the document\n",
        "    paragraphs = soup.find_all('p')\n",
        "\n",
        "    characters = []\n",
        "    for p in paragraphs:\n",
        "        # Extract text content from the paragraph\n",
        "        text = p.get_text()\n",
        "\n",
        "        # Attempt to split the text into coordinates and character\n",
        "        parts = text.split(',')\n",
        "        if len(parts) == 3:\n",
        "            try:\n",
        "                x = int(parts[0])\n",
        "                y = int(parts[1])\n",
        "                char = parts[2].strip()\n",
        "                characters.append((x, y, char))\n",
        "            except ValueError:\n",
        "                # Handle cases where the text doesn't contain valid coordinates\n",
        "                print(f\"Skipping invalid line: {text}\")\n",
        "\n",
        "    return characters\n",
        "\n",
        "def create_grid(characters):\n",
        "    \"\"\"Creates a grid based on the characters and their coordinates.\"\"\"\n",
        "    # Determine the size of the grid by finding the max x and y coordinates\n",
        "    if not characters:  # Check if the list is empty\n",
        "        return []  # Return an empty grid if there are no characters\n",
        "\n",
        "    max_x = max(x for x, _, _ in characters)\n",
        "    max_y = max(y for _, y, _ in characters)\n",
        "\n",
        "    # Create an empty grid (list of lists filled with spaces)\n",
        "    grid = [[' ' for _ in range(max_x + 1)] for _ in range(max_y + 1)]\n",
        "\n",
        "    # Place characters in their corresponding positions in the grid\n",
        "    for x, y, char in characters:\n",
        "        grid[y][x] = char\n",
        "\n",
        "    return grid\n",
        "\n",
        "def print_grid(grid):\n",
        "    \"\"\"Prints the grid as a text-based graphic.\"\"\"\n",
        "    for row in grid:\n",
        "        print(''.join(row))\n",
        "\n",
        "def display_message(data_string):\n",
        "    \"\"\"Main function that integrates the steps, modified to accept a data string.\"\"\"\n",
        "    # Parse the data string instead of fetching from a URL\n",
        "    characters = []\n",
        "    for line in data_string.strip().split('\\n'):  # Split the string into lines\n",
        "        parts = line.split(',')  # Split each line into parts by comma\n",
        "        if len(parts) == 3:\n",
        "            try:\n",
        "                x = int(parts[0])\n",
        "                y = int(parts[1])\n",
        "                char = parts[2].strip()  # Strip whitespace from the character\n",
        "                characters.append((x, y, char))\n",
        "            except ValueError:\n",
        "                print(f\"Skipping invalid line: {line}\")  # Handle invalid lines\n",
        "\n",
        "    # Create the grid\n",
        "    grid = create_grid(characters)\n",
        "\n",
        "    # Print the grid as a text-based graphic\n",
        "    print_grid(grid)\n",
        "\n",
        "# Data as a string:\n",
        "data = \"\"\"\n",
        "1,0,H\n",
        "2,0,E\n",
        "3,0,L\n",
        "4,0,L\n",
        "5,0,O\n",
        "\"\"\"\n",
        "display_message(data)"
      ],
      "metadata": {
        "colab": {
          "base_uri": "https://localhost:8080/"
        },
        "id": "Mp97CZxFDpG-",
        "outputId": "1cb38bcb-168f-4de2-9191-b13ab8ab3b55"
      },
      "execution_count": 12,
      "outputs": [
        {
          "output_type": "stream",
          "name": "stdout",
          "text": [
            " HELLO\n"
          ]
        }
      ]
    }
  ]
}