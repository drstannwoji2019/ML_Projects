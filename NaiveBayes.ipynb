{
  "nbformat": 4,
  "nbformat_minor": 0,
  "metadata": {
    "colab": {
      "provenance": [],
      "authorship_tag": "ABX9TyPTw6XyNUaUdWjv9Ek7iiF+",
      "include_colab_link": true
    },
    "kernelspec": {
      "name": "python3",
      "display_name": "Python 3"
    },
    "language_info": {
      "name": "python"
    }
  },
  "cells": [
    {
      "cell_type": "markdown",
      "metadata": {
        "id": "view-in-github",
        "colab_type": "text"
      },
      "source": [
        "<a href=\"https://colab.research.google.com/github/drstannwoji2019/ML_Projects/blob/main/NaiveBayes.ipynb\" target=\"_parent\"><img src=\"https://colab.research.google.com/assets/colab-badge.svg\" alt=\"Open In Colab\"/></a>"
      ]
    },
    {
      "cell_type": "code",
      "source": [
        "# Install required libraries. I already have the libraries, but you can install the ones you don't have\n",
        "# !pip install pandas scikit-learn seaborn matplotlib\n",
        "import pandas as pd\n",
        "import urllib.error  # Import the urllib.error module\n",
        "\n",
        "# Load and Explore the Dataset\n",
        "\n",
        "df = pd.read_csv('/spam4ANLY530.csv', encoding=\"latin-1\")\n",
        "\n",
        "# Rename columns\n",
        "# The original CSV has 5 columns, so we need 5 names\n",
        "# We'll keep the original names for the unnamed columns\n",
        "df.columns = ['label', 'message', 'Unnamed: 2', 'Unnamed: 3', 'Unnamed: 4']\n",
        "\n",
        "# Display dataset info\n",
        "print(df.head())\n",
        "print(df.info())\n",
        "\n",
        "# Dataset Overview\n",
        "# Label: \"ham\" (not spam) or \"spam\"\n",
        "# message: Text of the SMS message"
      ],
      "metadata": {
        "colab": {
          "base_uri": "https://localhost:8080/"
        },
        "id": "wZdELoMwg5q8",
        "outputId": "dc1f1b27-2040-468e-fc1d-8d6b6bfc8db8"
      },
      "execution_count": 11,
      "outputs": [
        {
          "output_type": "stream",
          "name": "stdout",
          "text": [
            "  label                                            message Unnamed: 2  \\\n",
            "0   ham  Go until jurong point, crazy.. Available only ...        NaN   \n",
            "1   ham                      Ok lar... Joking wif u oni...        NaN   \n",
            "2  spam  Free entry in 2 a wkly comp to win FA Cup fina...        NaN   \n",
            "3   ham  U dun say so early hor... U c already then say...        NaN   \n",
            "4   ham  Nah I don't think he goes to usf, he lives aro...        NaN   \n",
            "\n",
            "  Unnamed: 3 Unnamed: 4  \n",
            "0        NaN        NaN  \n",
            "1        NaN        NaN  \n",
            "2        NaN        NaN  \n",
            "3        NaN        NaN  \n",
            "4        NaN        NaN  \n",
            "<class 'pandas.core.frame.DataFrame'>\n",
            "RangeIndex: 5572 entries, 0 to 5571\n",
            "Data columns (total 5 columns):\n",
            " #   Column      Non-Null Count  Dtype \n",
            "---  ------      --------------  ----- \n",
            " 0   label       5572 non-null   object\n",
            " 1   message     5572 non-null   object\n",
            " 2   Unnamed: 2  50 non-null     object\n",
            " 3   Unnamed: 3  12 non-null     object\n",
            " 4   Unnamed: 4  6 non-null      object\n",
            "dtypes: object(5)\n",
            "memory usage: 217.8+ KB\n",
            "None\n"
          ]
        }
      ]
    },
    {
      "cell_type": "code",
      "source": [
        "# Data Preprocessing\n",
        "from sklearn.model_selection import train_test_split\n",
        "from sklearn.feature_extraction.text import TfidfVectorizer\n",
        "from sklearn.preprocessing import LabelEncoder\n",
        "\n",
        "# Encode labels (ham = 0, spam = 1)\n",
        "label_encoder = LabelEncoder()\n",
        "df['label'] = label_encoder.fit_transform(df['label'])\n",
        "\n",
        "# Split data into training and testing sets\n",
        "X_train, X_test, y_train, y_test = train_test_split(df['message'], df['label'], test_size=0.2, random_state=42)\n",
        "\n",
        "# Convert text to numerical feature vectors\n",
        "vectorizer = TfidfVectorizer(stop_words='english', max_features=3000)\n",
        "X_train_tfidf = vectorizer.fit_transform(X_train)\n",
        "X_test_tfidf = vectorizer.transform(X_test)\n"
      ],
      "metadata": {
        "id": "MYJgso4EjnSd"
      },
      "execution_count": 12,
      "outputs": []
    },
    {
      "cell_type": "code",
      "source": [
        "# Train a Naive Bayes Classifier\n",
        "from sklearn.naive_bayes import MultinomialNB\n",
        "from sklearn.metrics import accuracy_score, classification_report, confusion_matrix\n",
        "\n",
        "# Train Naïve Bayes classifier\n",
        "nb = MultinomialNB()\n",
        "nb.fit(X_train_tfidf, y_train)\n",
        "\n",
        "# Predictions\n",
        "y_pred = nb.predict(X_test_tfidf)\n"
      ],
      "metadata": {
        "id": "z9UfI7gDjzG7"
      },
      "execution_count": 13,
      "outputs": []
    },
    {
      "cell_type": "code",
      "source": [
        "# Evaluate the Model ~ Check the model's accuracy, recall, and F1-score\n",
        "print(\"Accuracy:\", accuracy_score(y_test, y_pred))\n",
        "print(\"\\nClassification Report:\\n\", classification_report(y_test, y_pred))\n",
        "\n",
        "# Display confusion matrix\n",
        "import seaborn as sns\n",
        "import matplotlib.pyplot as plt\n",
        "\n",
        "cm = confusion_matrix(y_test, y_pred)\n",
        "plt.figure(figsize=(6,4))\n",
        "sns.heatmap(cm, annot=True, fmt='d', cmap='Blues', xticklabels=['Ham', 'Spam'], yticklabels=['Ham', 'Spam'])\n",
        "plt.xlabel('Predicted')\n",
        "plt.ylabel('Actual')\n",
        "plt.title('Confusion Matrix')\n",
        "plt.show()\n"
      ],
      "metadata": {
        "colab": {
          "base_uri": "https://localhost:8080/",
          "height": 630
        },
        "id": "igFk7yHnj4fc",
        "outputId": "29334d7b-bab2-4d98-b994-59ef35af3636"
      },
      "execution_count": 14,
      "outputs": [
        {
          "output_type": "stream",
          "name": "stdout",
          "text": [
            "Accuracy: 0.9775784753363229\n",
            "\n",
            "Classification Report:\n",
            "               precision    recall  f1-score   support\n",
            "\n",
            "           0       0.97      1.00      0.99       965\n",
            "           1       1.00      0.83      0.91       150\n",
            "\n",
            "    accuracy                           0.98      1115\n",
            "   macro avg       0.99      0.92      0.95      1115\n",
            "weighted avg       0.98      0.98      0.98      1115\n",
            "\n"
          ]
        },
        {
          "output_type": "display_data",
          "data": {
            "text/plain": [
              "<Figure size 600x400 with 2 Axes>"
            ],
            "image/png": "[encoded data removed]"
          },
          "metadata": {}
        }
      ]
    },
    {
      "cell_type": "code",
      "source": [
        "# Test with New Messages\n",
        "def predict_spam(message):\n",
        "    message_tfidf = vectorizer.transform([message])  # Transform input text\n",
        "    prediction = nb.predict(message_tfidf)[0]  # Predict\n",
        "    return \"Spam\" if prediction == 1 else \"Ham\"\n",
        "\n",
        "# Test messages\n",
        "test_messages = [\n",
        "    \"Congratulations! You've won a free iPhone. Click here to claim.\",\n",
        "    \"Hey, are we still meeting for lunch today?\",\n",
        "    \"URGENT! Your account has been suspended. Verify now!\",\n",
        "    \"Hi Mom, I’ll call you later.\"\n",
        "]\n",
        "\n",
        "for msg in test_messages:\n",
        "    print(f\"Message: {msg}\\nPrediction: {predict_spam(msg)}\\n\")\n"
      ],
      "metadata": {
        "colab": {
          "base_uri": "https://localhost:8080/"
        },
        "id": "7nOqsjGsl32X",
        "outputId": "e7bf0a27-6f65-4bfb-f7e9-3cbdbfbd2acb"
      },
      "execution_count": 15,
      "outputs": [
        {
          "output_type": "stream",
          "name": "stdout",
          "text": [
            "Message: Congratulations! You've won a free iPhone. Click here to claim.\n",
            "Prediction: Spam\n",
            "\n",
            "Message: Hey, are we still meeting for lunch today?\n",
            "Prediction: Ham\n",
            "\n",
            "Message: URGENT! Your account has been suspended. Verify now!\n",
            "Prediction: Spam\n",
            "\n",
            "Message: Hi Mom, I’ll call you later.\n",
            "Prediction: Ham\n",
            "\n"
          ]
        }
      ]
    }
  ]
}