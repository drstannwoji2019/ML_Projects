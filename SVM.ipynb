{
  "nbformat": 4,
  "nbformat_minor": 0,
  "metadata": {
    "colab": {
      "provenance": [],
      "authorship_tag": "ABX9TyOKOUBlp63nA7zeLGjIT8a6",
      "include_colab_link": true
    },
    "kernelspec": {
      "name": "python3",
      "display_name": "Python 3"
    },
    "language_info": {
      "name": "python"
    }
  },
  "cells": [
    {
      "cell_type": "markdown",
      "metadata": {
        "id": "view-in-github",
        "colab_type": "text"
      },
      "source": [
        "<a href=\"https://colab.research.google.com/github/drstannwoji2019/ML_Projects/blob/main/SVM.ipynb\" target=\"_parent\"><img src=\"https://colab.research.google.com/assets/colab-badge.svg\" alt=\"Open In Colab\"/></a>"
      ]
    },
    {
      "cell_type": "code",
      "execution_count": 1,
      "metadata": {
        "colab": {
          "base_uri": "https://localhost:8080/"
        },
        "id": "NQ8IbpzVcG2r",
        "outputId": "475597ee-7714-494c-a2f3-a4e404394a82"
      },
      "outputs": [
        {
          "output_type": "stream",
          "name": "stdout",
          "text": [
            "Fitting 5 folds for each of 108 candidates, totalling 540 fits\n",
            "Best Parameters: {'svm__C': 0.1, 'svm__degree': 2, 'svm__gamma': 'scale', 'svm__kernel': 'rbf'}\n",
            "Best Cross-Validation Accuracy: 0.9\n",
            "\n",
            "Classification Report:\n",
            "               precision    recall  f1-score   support\n",
            "\n",
            "           0       0.93      0.84      0.88        79\n",
            "           1       0.84      0.93      0.88        71\n",
            "\n",
            "    accuracy                           0.88       150\n",
            "   macro avg       0.88      0.88      0.88       150\n",
            "weighted avg       0.89      0.88      0.88       150\n",
            "\n"
          ]
        }
      ],
      "source": [
        "from sklearn.datasets import make_classification\n",
        "from sklearn.model_selection import train_test_split, GridSearchCV\n",
        "from sklearn.svm import SVC\n",
        "from sklearn.preprocessing import StandardScaler\n",
        "from sklearn.pipeline import Pipeline\n",
        "from sklearn.metrics import classification_report\n",
        "\n",
        "# Generate synthetic dataset\n",
        "X, y = make_classification(n_samples=500, n_features=10, random_state=42)\n",
        "\n",
        "# Split into training and testing sets\n",
        "X_train, X_test, y_train, y_test = train_test_split(X, y, test_size=0.3, random_state=42)\n",
        "\n",
        "# Standardize features\n",
        "scaler = StandardScaler()\n",
        "\n",
        "# Define the SVM model\n",
        "svm_model = SVC()\n",
        "\n",
        "# Create a pipeline for scaling and SVM\n",
        "pipeline = Pipeline([\n",
        "    ('scaler', scaler),\n",
        "    ('svm', svm_model)\n",
        "])\n",
        "\n",
        "# Define parameter grid for Grid Search\n",
        "param_grid = {\n",
        "    'svm__kernel': ['linear', 'rbf', 'poly'],  # Test different kernels\n",
        "    'svm__C': [0.1, 1, 10],                    # Regularization parameter\n",
        "    'svm__gamma': ['scale', 'auto', 0.1, 1],   # Gamma parameter for RBF and Polynomial kernels\n",
        "    'svm__degree': [2, 3, 4]                   # Degree for Polynomial kernel\n",
        "}\n",
        "\n",
        "# Perform Grid Search with Cross-Validation\n",
        "grid_search = GridSearchCV(pipeline, param_grid, cv=5, scoring='accuracy', verbose=1)\n",
        "grid_search.fit(X_train, y_train)\n",
        "\n",
        "# Best parameters and score\n",
        "print(\"Best Parameters:\", grid_search.best_params_)\n",
        "print(\"Best Cross-Validation Accuracy:\", grid_search.best_score_)\n",
        "\n",
        "# Evaluate on the test set\n",
        "y_pred = grid_search.best_estimator_.predict(X_test)\n",
        "print(\"\\nClassification Report:\\n\", classification_report(y_test, y_pred))\n"
      ]
    }
  ]
}