{
  "nbformat": 4,
  "nbformat_minor": 0,
  "metadata": {
    "colab": {
      "provenance": [],
      "authorship_tag": "ABX9TyPB3cRQdMFq/5GAAEBAr0wg",
      "include_colab_link": true
    },
    "kernelspec": {
      "name": "python3",
      "display_name": "Python 3"
    },
    "language_info": {
      "name": "python"
    }
  },
  "cells": [
    {
      "cell_type": "markdown",
      "metadata": {
        "id": "view-in-github",
        "colab_type": "text"
      },
      "source": [
        "<a href=\"https://colab.research.google.com/github/drstannwoji2019/ML_Projects/blob/main/Model_Evaluation.ipynb\" target=\"_parent\"><img src=\"https://colab.research.google.com/assets/colab-badge.svg\" alt=\"Open In Colab\"/></a>"
      ]
    },
    {
      "cell_type": "markdown",
      "source": [
        "1. Setup"
      ],
      "metadata": {
        "id": "9CjvQIXrpFiH"
      }
    },
    {
      "cell_type": "code",
      "source": [
        "import numpy as np\n",
        "import pandas as pd\n",
        "import matplotlib.pyplot as plt\n",
        "import seaborn as sns\n",
        "\n",
        "from sklearn.model_selection import train_test_split, cross_val_score, KFold\n",
        "from sklearn.metrics import (\n",
        "    accuracy_score, precision_score, recall_score, f1_score,\n",
        "    confusion_matrix, classification_report, roc_curve, auc,\n",
        "    mean_squared_error, mean_absolute_error, r2_score\n",
        ")\n",
        "\n",
        "from sklearn.linear_model import LogisticRegression, LinearRegression\n",
        "from sklearn.ensemble import RandomForestClassifier\n",
        "from sklearn.datasets import fetch_california_housing\n",
        "from sklearn.preprocessing import StandardScaler\n"
      ],
      "metadata": {
        "id": "_dCwNX_iqOAO"
      },
      "execution_count": 8,
      "outputs": []
    },
    {
      "cell_type": "markdown",
      "source": [
        "2. Classification Example – Iris Dataset"
      ],
      "metadata": {
        "id": "2w5pgl6OqYH9"
      }
    },
    {
      "cell_type": "code",
      "source": [
        "# Load data\n",
        "iris = load_iris()\n",
        "X, y = iris.data, iris.target\n",
        "\n",
        "# Train-test split\n",
        "X_train, X_test, y_train, y_test = train_test_split(X, y, test_size=0.3, random_state=42)\n",
        "\n",
        "# Fit model\n",
        "clf = RandomForestClassifier(random_state=42)\n",
        "clf.fit(X_train, y_train)\n",
        "\n",
        "# Predict\n",
        "y_pred = clf.predict(X_test)\n"
      ],
      "metadata": {
        "id": "SvW3nB-bqVh8"
      },
      "execution_count": 9,
      "outputs": []
    },
    {
      "cell_type": "markdown",
      "source": [
        "3. Classification Metrics"
      ],
      "metadata": {
        "id": "g_Mk1Wfuqn3d"
      }
    },
    {
      "cell_type": "code",
      "source": [
        "# Accuracy\n",
        "print(\"Accuracy:\", accuracy_score(y_test, y_pred))\n",
        "\n",
        "# Precision, Recall, F1\n",
        "print(\"Precision:\", precision_score(y_test, y_pred, average='macro'))\n",
        "print(\"Recall:\", recall_score(y_test, y_pred, average='macro'))\n",
        "print(\"F1 Score:\", f1_score(y_test, y_pred, average='macro'))\n",
        "\n",
        "# Confusion Matrix\n",
        "sns.heatmap(confusion_matrix(y_test, y_pred), annot=True, cmap=\"Blues\", fmt=\"d\")\n",
        "plt.title(\"Confusion Matrix\")\n",
        "plt.xlabel(\"Predicted\")\n",
        "plt.ylabel(\"True\")\n",
        "plt.show()\n"
      ],
      "metadata": {
        "colab": {
          "base_uri": "https://localhost:8080/",
          "height": 545
        },
        "id": "ZKIk4H8Vqf6V",
        "outputId": "1cec32c8-448c-49c4-f1ba-b81462311464"
      },
      "execution_count": 10,
      "outputs": [
        {
          "output_type": "stream",
          "name": "stdout",
          "text": [
            "Accuracy: 1.0\n",
            "Precision: 1.0\n",
            "Recall: 1.0\n",
            "F1 Score: 1.0\n"
          ]
        },
        {
          "output_type": "display_data",
          "data": {
            "text/plain": [
              "<Figure size 640x480 with 2 Axes>"
            ],
            "image/png": "[encoded data removed]"
          },
          "metadata": {}
        }
      ]
    },
    {
      "cell_type": "markdown",
      "source": [
        "4. ROC & AUC (binary example using logistic regression)"
      ],
      "metadata": {
        "id": "B_Hvaxtoq1cM"
      }
    },
    {
      "cell_type": "code",
      "source": [
        "# Binary classification for simplicity\n",
        "X_bin = X[y != 2]\n",
        "y_bin = y[y != 2]\n",
        "\n",
        "X_train, X_test, y_train, y_test = train_test_split(X_bin, y_bin, test_size=0.3, random_state=42)\n",
        "clf = LogisticRegression()\n",
        "clf.fit(X_train, y_train)\n",
        "\n",
        "# Predict probabilities\n",
        "y_prob = clf.predict_proba(X_test)[:, 1]\n",
        "\n",
        "# ROC Curve\n",
        "fpr, tpr, thresholds = roc_curve(y_test, y_prob)\n",
        "roc_auc = auc(fpr, tpr)\n",
        "\n",
        "plt.plot(fpr, tpr, label=f\"AUC = {roc_auc:.2f}\")\n",
        "plt.plot([0, 1], [0, 1], \"k--\")\n",
        "plt.xlabel(\"False Positive Rate\")\n",
        "plt.ylabel(\"True Positive Rate\")\n",
        "plt.title(\"ROC Curve\")\n",
        "plt.legend()\n",
        "plt.show()\n"
      ],
      "metadata": {
        "colab": {
          "base_uri": "https://localhost:8080/",
          "height": 472
        },
        "id": "_vFOMZMoq0sG",
        "outputId": "b24ced53-e5c3-4258-f702-9349efe025a9"
      },
      "execution_count": 11,
      "outputs": [
        {
          "output_type": "display_data",
          "data": {
            "text/plain": [
              "<Figure size 640x480 with 1 Axes>"
            ],
            "image/png": "[encoded data removed]"
          },
          "metadata": {}
        }
      ]
    },
    {
      "cell_type": "markdown",
      "source": [
        "5. Regression Example – Boston Housing"
      ],
      "metadata": {
        "id": "hwes1D6_q-0I"
      }
    },
    {
      "cell_type": "code",
      "source": [
        "# Load data\n",
        "housing = fetch_california_housing()\n",
        "X, y = housing.data, housing.target # Changed 'california' to 'housing'\n",
        "\n",
        "X_train, X_test, y_train, y_test = train_test_split(X, y, test_size=0.2, random_state=42)\n",
        "\n",
        "model = LinearRegression()\n",
        "model.fit(X_train, y_train)\n",
        "y_pred = model.predict(X_test)\n"
      ],
      "metadata": {
        "id": "afZhczTDrHO9"
      },
      "execution_count": 22,
      "outputs": []
    },
    {
      "cell_type": "markdown",
      "source": [
        "6. Regression Metrics"
      ],
      "metadata": {
        "id": "uBB4l801rW7p"
      }
    },
    {
      "cell_type": "code",
      "source": [
        "print(\"MAE:\", mean_absolute_error(y_test, y_pred))\n",
        "print(\"MSE:\", mean_squared_error(y_test, y_pred))\n",
        "print(\"RMSE:\", np.sqrt(mean_squared_error(y_test, y_pred)))\n",
        "print(\"R² Score:\", r2_score(y_test, y_pred))"
      ],
      "metadata": {
        "colab": {
          "base_uri": "https://localhost:8080/"
        },
        "id": "rZTpUVdxrWZ-",
        "outputId": "a7f06923-cdd1-44ee-b5cc-c9579b057afb"
      },
      "execution_count": 23,
      "outputs": [
        {
          "output_type": "stream",
          "name": "stdout",
          "text": [
            "MAE: 0.533200130495698\n",
            "MSE: 0.5558915986952422\n",
            "RMSE: 0.7455813830127749\n",
            "R² Score: 0.5757877060324524\n"
          ]
        }
      ]
    },
    {
      "cell_type": "markdown",
      "source": [
        "7. Cross Validation"
      ],
      "metadata": {
        "id": "6fbI42cJrgqt"
      }
    },
    {
      "cell_type": "code",
      "source": [
        "# K-Fold Cross Validation\n",
        "kf = KFold(n_splits=5, shuffle=True, random_state=42)\n",
        "\n",
        "# Use the regression model (model) instead of the classifier (clf)\n",
        "# Also, change scoring to a regression metric like 'neg_mean_squared_error' or 'r2'\n",
        "scores = cross_val_score(model, X, y, cv=kf, scoring='neg_mean_squared_error')\n",
        "\n",
        "print(\"Cross-Validation Scores:\", scores)\n",
        "print(\"Mean Squared Error:\", -scores.mean()) # negate to get positive MSE"
      ],
      "metadata": {
        "colab": {
          "base_uri": "https://localhost:8080/"
        },
        "id": "aHRYszyDrmU0",
        "outputId": "7210f2a5-3d88-46ed-ac18-ee1d1f953624"
      },
      "execution_count": 24,
      "outputs": [
        {
          "output_type": "stream",
          "name": "stdout",
          "text": [
            "Cross-Validation Scores: [-0.5558916  -0.52765625 -0.50928321 -0.50485078 -0.55518048]\n",
            "Mean Squared Error: 0.5305724639238873\n"
          ]
        }
      ]
    },
    {
      "cell_type": "markdown",
      "source": [
        "8. Common Pitfalls"
      ],
      "metadata": {
        "id": "Lr5BtDEIrrK0"
      }
    },
    {
      "cell_type": "code",
      "source": [
        "from sklearn.datasets import make_classification\n",
        "from collections import Counter\n",
        "\n",
        "# Create imbalanced dataset\n",
        "X_imb, y_imb = make_classification(n_samples=1000, n_classes=2, weights=[0.9, 0.1], random_state=42)\n",
        "print(\"Class distribution:\", Counter(y_imb))\n",
        "\n",
        "# Evaluate naive accuracy\n",
        "X_train, X_test, y_train, y_test = train_test_split(X_imb, y_imb, test_size=0.3, random_state=42)\n",
        "clf = LogisticRegression()\n",
        "clf.fit(X_train, y_train)\n",
        "print(\"Accuracy on imbalanced set:\", accuracy_score(y_test, clf.predict(X_test)))\n",
        "print(\"Confusion matrix:\\n\", confusion_matrix(y_test, clf.predict(X_test)))\n"
      ],
      "metadata": {
        "colab": {
          "base_uri": "https://localhost:8080/"
        },
        "id": "VVtnsYrZrugs",
        "outputId": "8ad06822-2f8e-4b0f-abfc-662e39b8ee69"
      },
      "execution_count": 25,
      "outputs": [
        {
          "output_type": "stream",
          "name": "stdout",
          "text": [
            "Class distribution: Counter({np.int64(0): 897, np.int64(1): 103})\n",
            "Accuracy on imbalanced set: 0.91\n",
            "Confusion matrix:\n",
            " [[261   9]\n",
            " [ 18  12]]\n"
          ]
        }
      ]
    },
    {
      "cell_type": "markdown",
      "source": [
        "9. Model Comparison Example"
      ],
      "metadata": {
        "id": "wAr48qO7r7cw"
      }
    },
    {
      "cell_type": "code",
      "source": [
        "models = {\n",
        "    \"Logistic Regression\": LogisticRegression(),\n",
        "    \"Random Forest\": RandomForestClassifier(),\n",
        "}\n",
        "\n",
        "# Change 'accuracy' to a regression scoring metric like 'neg_mean_squared_error' or 'r2' for Logistic Regression\n",
        "# Keep 'accuracy' for Random Forest if you intend to use it for classification on a different dataset\n",
        "models = {\n",
        "    \"Logistic Regression\": LogisticRegression(),\n",
        "    \"Random Forest\": RandomForestClassifier(),\n",
        "}\n",
        "\n",
        "# Change 'accuracy' to a regression scoring metric like 'neg_mean_squared_error' or 'r2' for Logistic Regression\n",
        "# Keep 'accuracy' for Random Forest if you intend to use it for classification on a different dataset\n",
        "for name, model in models.items():\n",
        "    if name == \"Logistic Regression\":\n",
        "        # Assuming 'X' and 'y' are from a regression task like the\n",
        "        pass"
      ],
      "metadata": {
        "id": "30I4BnzLr4YU"
      },
      "execution_count": 26,
      "outputs": []
    }
  ]
}