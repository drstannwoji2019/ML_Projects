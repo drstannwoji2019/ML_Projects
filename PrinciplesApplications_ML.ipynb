{
  "nbformat": 4,
  "nbformat_minor": 0,
  "metadata": {
    "colab": {
      "provenance": [],
      "authorship_tag": "ABX9TyNWy4X1dZf4ztcZE1dQQHL1",
      "include_colab_link": true
    },
    "kernelspec": {
      "name": "python3",
      "display_name": "Python 3"
    },
    "language_info": {
      "name": "python"
    }
  },
  "cells": [
    {
      "cell_type": "markdown",
      "metadata": {
        "id": "view-in-github",
        "colab_type": "text"
      },
      "source": [
        "<a href=\"https://colab.research.google.com/github/drstannwoji2019/ML_Projects/blob/main/PrinciplesApplications_ML.ipynb\" target=\"_parent\"><img src=\"https://colab.research.google.com/assets/colab-badge.svg\" alt=\"Open In Colab\"/></a>"
      ]
    },
    {
      "cell_type": "code",
      "execution_count": null,
      "metadata": {
        "colab": {
          "base_uri": "https://localhost:8080/"
        },
        "id": "R2zRjSaPVlKC",
        "outputId": "5b774d73-e6a3-4ee8-c0b4-fbb5f82205bf"
      },
      "outputs": [
        {
          "output_type": "stream",
          "name": "stdout",
          "text": [
            "Dr. Stanley Nwoji\n",
            "Hello  Dr. Stanley Nwoji\n",
            "Professor of Data Science\n"
          ]
        }
      ],
      "source": [
        "name = (\"Dr. Stanley Nwoji\") # A variable stores information (data). Whatever is in that variable, you can call merely by using the variable\n",
        "print(name)\n",
        "print('Hello ', name)\n",
        "name = (\"Professor of Data Science\")\n",
        "print(name)"
      ]
    },
    {
      "cell_type": "markdown",
      "source": [
        "Assignment 1: Write a code and print your name and a short introduction of who you are."
      ],
      "metadata": {
        "id": "yfGMUxQ5hO7Y"
      }
    },
    {
      "cell_type": "code",
      "source": [
        "print ('hello')"
      ],
      "metadata": {
        "colab": {
          "base_uri": "https://localhost:8080/"
        },
        "id": "iJ8ZZsIZV1D3",
        "outputId": "9f7fa7e4-c828-4b92-a0d7-d7f927711b50"
      },
      "execution_count": null,
      "outputs": [
        {
          "output_type": "stream",
          "name": "stdout",
          "text": [
            "hello\n"
          ]
        }
      ]
    },
    {
      "cell_type": "code",
      "source": [
        "# Why Python\n",
        "# 1. Simple and readable 2. Versatile 3. Widely supported\n",
        "# What can you do with Python\n",
        "# 1. Analyze large datasets 2. Create data visualizations 3. Automate repetitive tasks\n",
        "# 3. Develop simulations for experiments 4. Build applications for academic or professional use\n",
        "# Your first python code\n",
        "print(\"Hello, World\")\n"
      ],
      "metadata": {
        "colab": {
          "base_uri": "https://localhost:8080/"
        },
        "id": "0Z1PjMzGV78i",
        "outputId": "31fffbb6-fcb8-4357-b739-8972c71d6f38"
      },
      "execution_count": null,
      "outputs": [
        {
          "output_type": "stream",
          "name": "stdout",
          "text": [
            "Hello, World\n"
          ]
        }
      ]
    },
    {
      "cell_type": "code",
      "source": [
        "#Variables and Data Types\n",
        "# We use variables to store data which you can use in a program\n",
        "# Storing numbers\n",
        "x = 10 # Integer\n",
        "y = 3.14 # Float\n",
        "\n",
        "# Storing text\n",
        "name = \"Alice\" # String\n",
        "print(name)\n",
        "\n",
        "# Printing variables\n",
        "print(x, y, name)\n"
      ],
      "metadata": {
        "colab": {
          "base_uri": "https://localhost:8080/"
        },
        "id": "uwzpIluVZclP",
        "outputId": "f2818a1c-ed67-46b3-cfee-df9bd10f6c34"
      },
      "execution_count": null,
      "outputs": [
        {
          "output_type": "stream",
          "name": "stdout",
          "text": [
            "Alice\n",
            "10 3.14 Alice\n"
          ]
        }
      ]
    },
    {
      "cell_type": "markdown",
      "source": [
        "Assignment 2: What data types are these two 20 and 50.65? Explain the difference. How do you represent a string in Python?"
      ],
      "metadata": {
        "id": "q5ljJ4x_kcT4"
      }
    },
    {
      "cell_type": "code",
      "source": [
        "# If-else Condition\n",
        "\n",
        "age = 25\n",
        "if age > 18:\n",
        "    print(\"You are an adult.\")\n",
        "else:\n",
        "    print(\"You are a minor.\")\n",
        "\n",
        "# For loop\n",
        "for i in range(5):\n",
        "    print(i)\n"
      ],
      "metadata": {
        "colab": {
          "base_uri": "https://localhost:8080/"
        },
        "id": "1jHf94N_aIWB",
        "outputId": "ccff3563-b3a7-481f-8613-4795870c5bef"
      },
      "execution_count": null,
      "outputs": [
        {
          "output_type": "stream",
          "name": "stdout",
          "text": [
            "You are an adult.\n",
            "0\n",
            "1\n",
            "2\n",
            "3\n",
            "4\n"
          ]
        }
      ]
    },
    {
      "cell_type": "markdown",
      "source": [
        "Assignment 3: Write a Python code using if-else statement to find out if a 30 year old man is qualified to be in the American military if the age for joining the military is between 20 and 45."
      ],
      "metadata": {
        "id": "Kx5CJcDemIK8"
      }
    },
    {
      "cell_type": "code",
      "source": [
        "# Arithmetic Operations\n",
        "# Addition\n",
        "5 + 3"
      ],
      "metadata": {
        "colab": {
          "base_uri": "https://localhost:8080/"
        },
        "id": "kK1Kzcgvak3V",
        "outputId": "4edbf29e-6139-468d-95c1-af7066fa72ca"
      },
      "execution_count": null,
      "outputs": [
        {
          "output_type": "execute_result",
          "data": {
            "text/plain": [
              "8"
            ]
          },
          "metadata": {},
          "execution_count": 6
        }
      ]
    },
    {
      "cell_type": "code",
      "source": [
        "# Subtraction\n",
        "5 - 3\n"
      ],
      "metadata": {
        "colab": {
          "base_uri": "https://localhost:8080/"
        },
        "id": "LT6pPIWGbA7q",
        "outputId": "eddfe3dd-1a1a-4544-e87f-d5143b406d8e"
      },
      "execution_count": null,
      "outputs": [
        {
          "output_type": "execute_result",
          "data": {
            "text/plain": [
              "2"
            ]
          },
          "metadata": {},
          "execution_count": 7
        }
      ]
    },
    {
      "cell_type": "code",
      "source": [
        "# Multiplication\n",
        "5 * 3"
      ],
      "metadata": {
        "colab": {
          "base_uri": "https://localhost:8080/"
        },
        "id": "K3PYjr6YbJpH",
        "outputId": "55ae7507-b377-4e9f-e95b-9a36659aac68"
      },
      "execution_count": null,
      "outputs": [
        {
          "output_type": "execute_result",
          "data": {
            "text/plain": [
              "15"
            ]
          },
          "metadata": {},
          "execution_count": 8
        }
      ]
    },
    {
      "cell_type": "code",
      "source": [
        "# Division\n",
        "5 / 2\n"
      ],
      "metadata": {
        "colab": {
          "base_uri": "https://localhost:8080/"
        },
        "id": "T3qtIp6abTys",
        "outputId": "8c665cfd-f0d7-4a20-fe24-0248034a4a96"
      },
      "execution_count": null,
      "outputs": [
        {
          "output_type": "execute_result",
          "data": {
            "text/plain": [
              "2.5"
            ]
          },
          "metadata": {},
          "execution_count": 10
        }
      ]
    },
    {
      "cell_type": "code",
      "source": [
        "# Floor Division\n",
        "5 // 2"
      ],
      "metadata": {
        "colab": {
          "base_uri": "https://localhost:8080/"
        },
        "id": "mrAu3ayhbcts",
        "outputId": "f03af674-3949-4ad8-a086-7520d24acef0"
      },
      "execution_count": null,
      "outputs": [
        {
          "output_type": "execute_result",
          "data": {
            "text/plain": [
              "2"
            ]
          },
          "metadata": {},
          "execution_count": 25
        }
      ]
    },
    {
      "cell_type": "code",
      "source": [
        "# Modulus (Remainder)\n",
        "5 % 2"
      ],
      "metadata": {
        "colab": {
          "base_uri": "https://localhost:8080/"
        },
        "id": "zv86v8FKbpGx",
        "outputId": "9608c96e-3ff9-448f-856c-f25c1177c23d"
      },
      "execution_count": null,
      "outputs": [
        {
          "output_type": "execute_result",
          "data": {
            "text/plain": [
              "1"
            ]
          },
          "metadata": {},
          "execution_count": 12
        }
      ]
    },
    {
      "cell_type": "code",
      "source": [
        "# Exponentiation\n",
        "3**9"
      ],
      "metadata": {
        "colab": {
          "base_uri": "https://localhost:8080/"
        },
        "id": "SnOhKlVxb4Gw",
        "outputId": "f7eb3261-47ed-42a4-93f9-9dccc5f9efa0"
      },
      "execution_count": null,
      "outputs": [
        {
          "output_type": "execute_result",
          "data": {
            "text/plain": [
              "19683"
            ]
          },
          "metadata": {},
          "execution_count": 29
        }
      ]
    },
    {
      "cell_type": "code",
      "source": [
        "# Assignment = Try this assignment without using python, and try it again with python\n",
        "a = 7\n",
        "b = 3\n",
        "print(a + b)\n",
        "print(a - b)\n",
        "print(a * b)\n",
        "print(a / b)\n",
        "print(a // b)\n",
        "print(a % b)\n",
        "print(a ** b)\n",
        "print(a^b)"
      ],
      "metadata": {
        "colab": {
          "base_uri": "https://localhost:8080/"
        },
        "id": "iM0QoXd3cFr5",
        "outputId": "a49fe377-ba03-4b66-872e-daa4a0583b3b"
      },
      "execution_count": null,
      "outputs": [
        {
          "output_type": "stream",
          "name": "stdout",
          "text": [
            "10\n",
            "4\n",
            "21\n",
            "2.3333333333333335\n",
            "2\n",
            "1\n",
            "343\n",
            "4\n"
          ]
        }
      ]
    },
    {
      "cell_type": "code",
      "source": [
        "# Comparison Operators\n",
        "# name = \"Alice\"\n",
        "# Equal to; ==\n",
        "# Comparison operators are used to compare values and they return a Boolean (True, False)\n",
        "# There are many comparison operators: equal to, not equal to, greater than, less than, greater than or equal to, less than or equal to.\n",
        "5 == 5\n"
      ],
      "metadata": {
        "colab": {
          "base_uri": "https://localhost:8080/"
        },
        "id": "3IFtz2-zclPM",
        "outputId": "3600cf64-9119-419f-a2a1-e5119b8c8883"
      },
      "execution_count": null,
      "outputs": [
        {
          "output_type": "execute_result",
          "data": {
            "text/plain": [
              "True"
            ]
          },
          "metadata": {},
          "execution_count": 35
        }
      ]
    },
    {
      "cell_type": "code",
      "source": [
        "5 != 5\n"
      ],
      "metadata": {
        "colab": {
          "base_uri": "https://localhost:8080/"
        },
        "id": "06BZK5ljroFX",
        "outputId": "3446bfd1-bb2c-4e2c-8acb-4efae6cd1d31"
      },
      "execution_count": null,
      "outputs": [
        {
          "output_type": "execute_result",
          "data": {
            "text/plain": [
              "False"
            ]
          },
          "metadata": {},
          "execution_count": 36
        }
      ]
    },
    {
      "cell_type": "code",
      "source": [
        "5 > 3"
      ],
      "metadata": {
        "colab": {
          "base_uri": "https://localhost:8080/"
        },
        "id": "5Kk1CjmUrylP",
        "outputId": "7073f2a7-d14d-41ff-a310-10bfc51634d2"
      },
      "execution_count": null,
      "outputs": [
        {
          "output_type": "execute_result",
          "data": {
            "text/plain": [
              "True"
            ]
          },
          "metadata": {},
          "execution_count": 37
        }
      ]
    },
    {
      "cell_type": "code",
      "source": [
        "5 < 3"
      ],
      "metadata": {
        "colab": {
          "base_uri": "https://localhost:8080/"
        },
        "id": "-ckn6Gaxr2ep",
        "outputId": "0345ed89-546a-4055-e5db-fe4dccc9e1ce"
      },
      "execution_count": null,
      "outputs": [
        {
          "output_type": "execute_result",
          "data": {
            "text/plain": [
              "False"
            ]
          },
          "metadata": {},
          "execution_count": 38
        }
      ]
    },
    {
      "cell_type": "code",
      "source": [
        "5 >= 6"
      ],
      "metadata": {
        "colab": {
          "base_uri": "https://localhost:8080/"
        },
        "id": "90BIfAo5r6h0",
        "outputId": "443ad925-36e0-4334-e7ab-970b377d3142"
      },
      "execution_count": null,
      "outputs": [
        {
          "output_type": "execute_result",
          "data": {
            "text/plain": [
              "False"
            ]
          },
          "metadata": {},
          "execution_count": 42
        }
      ]
    },
    {
      "cell_type": "code",
      "source": [
        "3 <=5"
      ],
      "metadata": {
        "colab": {
          "base_uri": "https://localhost:8080/"
        },
        "id": "mmCs_yXasLxO",
        "outputId": "0cc9adc3-014f-499e-82f8-76f004f05315"
      },
      "execution_count": null,
      "outputs": [
        {
          "output_type": "execute_result",
          "data": {
            "text/plain": [
              "True"
            ]
          },
          "metadata": {},
          "execution_count": 43
        }
      ]
    },
    {
      "cell_type": "code",
      "source": [],
      "metadata": {
        "id": "cofiAPUsscjz"
      },
      "execution_count": null,
      "outputs": []
    },
    {
      "cell_type": "markdown",
      "source": [
        "Assignment 4:\n",
        "Show middle school students in your area how to use comparison operators. You must help them see that comparison operators return Boolean True or False outputs."
      ],
      "metadata": {
        "id": "MTReX1uqsgam"
      }
    },
    {
      "cell_type": "code",
      "source": [
        "# Lists\n",
        "# Definition: Lists are ordered, mutable (changeable) collections that can hold different data types\n",
        "myclass_fruits = [\"mango\", \"cherry\", \"pineapples\", \"strawberry\", \"orange\", \"water melon\", \"kiwi\"]\n",
        "print(myclass_fruits)"
      ],
      "metadata": {
        "colab": {
          "base_uri": "https://localhost:8080/"
        },
        "id": "MEwB46liuqUG",
        "outputId": "ce6205f2-31c1-421b-c75a-86c586a1c5c1"
      },
      "execution_count": null,
      "outputs": [
        {
          "output_type": "stream",
          "name": "stdout",
          "text": [
            "['mango', 'cherry', 'pineapples', 'strawberry', 'orange', 'water melon', 'kiwi']\n"
          ]
        }
      ]
    },
    {
      "cell_type": "code",
      "source": [
        "print(myclass_fruits[5])"
      ],
      "metadata": {
        "colab": {
          "base_uri": "https://localhost:8080/"
        },
        "id": "5nthh122wrnM",
        "outputId": "c3e12f8c-a493-46a7-887f-0a25c24b8faa"
      },
      "execution_count": null,
      "outputs": [
        {
          "output_type": "stream",
          "name": "stdout",
          "text": [
            "water melon\n"
          ]
        }
      ]
    },
    {
      "cell_type": "code",
      "source": [
        "myclass_fruits[1] = \"banana\"\n",
        "print(myclass_fruits)"
      ],
      "metadata": {
        "colab": {
          "base_uri": "https://localhost:8080/"
        },
        "id": "4TDs-eHgxG1N",
        "outputId": "72a6c895-73be-48ea-c0a6-7c9120666ed2"
      },
      "execution_count": null,
      "outputs": [
        {
          "output_type": "stream",
          "name": "stdout",
          "text": [
            "['mango', 'banana', 'pineapples', 'strawberry', 'orange', 'water melon', 'kiwi']\n"
          ]
        }
      ]
    },
    {
      "cell_type": "code",
      "source": [
        "myclass_fruits.append(\"apple\")\n",
        "print(myclass_fruits)"
      ],
      "metadata": {
        "colab": {
          "base_uri": "https://localhost:8080/"
        },
        "id": "PjmBA9HxxZYD",
        "outputId": "86774ecc-aa4e-4a76-f120-9af5e739c68b"
      },
      "execution_count": null,
      "outputs": [
        {
          "output_type": "stream",
          "name": "stdout",
          "text": [
            "['mango', 'banana', 'pineapples', 'strawberry', 'orange', 'water melon', 'kiwi', 'apple']\n"
          ]
        }
      ]
    },
    {
      "cell_type": "code",
      "source": [
        "myclass_fruits.append(\"cherry\")\n",
        "print(myclass_fruits)"
      ],
      "metadata": {
        "colab": {
          "base_uri": "https://localhost:8080/"
        },
        "id": "9ereXJ9mx2Ih",
        "outputId": "f36e047c-3874-4ba2-b541-a57b1751c80f"
      },
      "execution_count": null,
      "outputs": [
        {
          "output_type": "stream",
          "name": "stdout",
          "text": [
            "['mango', 'banana', 'pineapples', 'strawberry', 'orange', 'water melon', 'kiwi', 'apple', 'cherry']\n"
          ]
        }
      ]
    },
    {
      "cell_type": "code",
      "source": [
        "myclass_fruits.remove(\"pineapples\")\n",
        "print(myclass_fruits)"
      ],
      "metadata": {
        "colab": {
          "base_uri": "https://localhost:8080/"
        },
        "id": "XMoGERQax9O7",
        "outputId": "dd8559b0-767a-463b-c715-d30e056cdd74"
      },
      "execution_count": null,
      "outputs": [
        {
          "output_type": "stream",
          "name": "stdout",
          "text": [
            "['mango', 'banana', 'strawberry', 'orange', 'water melon', 'kiwi', 'apple', 'cherry']\n"
          ]
        }
      ]
    }
  ]
}